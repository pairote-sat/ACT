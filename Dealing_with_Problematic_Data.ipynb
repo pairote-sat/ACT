{
 "cells": [
  {
   "cell_type": "markdown",
   "id": "a4ce03a7-a29a-4400-97f8-57bb9b11ca77",
   "metadata": {},
   "source": [
    "## Dealing with Problematic Data\n",
    "\n",
    "\n",
    "### Problem in setting index in pandas DataFrame\n",
    "\n",
    "It may happen that the dataset contains an index column. How to import it correctly with Pandas? \n",
    "\n",
    "We will use a very simple dataset, namely demo_df.csv (the file can be download from my github repository), that contains an index column (this is just a counter and not a feature)."
   ]
  },
  {
   "cell_type": "code",
   "execution_count": 116,
   "id": "f565ba86-e834-4fcb-aa82-1ce5d91f91fa",
   "metadata": {},
   "outputs": [
    {
     "name": "stdout",
     "output_type": "stream",
     "text": [
      "   Unnamed: 0       dates  status\n",
      "0           0  2021-03-05  Opened\n",
      "1           1  2021-03-16  Opened\n",
      "2           2  2021-03-28  Closed\n"
     ]
    },
    {
     "data": {
      "text/plain": [
       "Index(['Unnamed: 0', 'dates', 'status'], dtype='object')"
      ]
     },
     "execution_count": 116,
     "metadata": {},
     "output_type": "execute_result"
    }
   ],
   "source": [
    "import pandas as pd\n",
    "\n",
    "# How to read CSV file from GitHub using pandas\n",
    "# https://stackoverflow.com/questions/55240330/how-to-read-csv-file-from-github-using-pandas\n",
    "\n",
    "# url = 'https://raw.githubusercontent.com/pairote-sat/SCMA248/main/demo_df'\n",
    "url = 'https://raw.githubusercontent.com/pairote-sat/SCMA248/main/Data/demo_df.csv'\n",
    "\n",
    "df1 = pd.read_csv(url)\n",
    "print(df1.head())\n",
    "df1.columns"
   ]
  },
  {
   "cell_type": "code",
   "execution_count": 117,
   "id": "1ac825d6-4043-4212-9e97-4592d124bd38",
   "metadata": {},
   "outputs": [],
   "source": [
    "## Uncomment these commands if the CSV dateset is stored locally.\n",
    "\n",
    "# df1 = pd.read_csv('/Users/Kaemyuijang/SCMA248/demo_df.csv')\n",
    "# print(df1.head())\n",
    "# df1.columns"
   ]
  },
  {
   "cell_type": "markdown",
   "id": "77f11f34-e15d-4320-bc27-f9c47c88393f",
   "metadata": {},
   "source": [
    "We want to specify that 'Unnamed: 0' is the index column  while loading this data set with the following command (with the parameter `index_col`):"
   ]
  },
  {
   "cell_type": "code",
   "execution_count": 118,
   "id": "2d557573-005f-47a0-8f06-2a3011cd0849",
   "metadata": {},
   "outputs": [
    {
     "data": {
      "text/html": [
       "<div>\n",
       "<style scoped>\n",
       "    .dataframe tbody tr th:only-of-type {\n",
       "        vertical-align: middle;\n",
       "    }\n",
       "\n",
       "    .dataframe tbody tr th {\n",
       "        vertical-align: top;\n",
       "    }\n",
       "\n",
       "    .dataframe thead th {\n",
       "        text-align: right;\n",
       "    }\n",
       "</style>\n",
       "<table border=\"1\" class=\"dataframe\">\n",
       "  <thead>\n",
       "    <tr style=\"text-align: right;\">\n",
       "      <th></th>\n",
       "      <th>dates</th>\n",
       "      <th>status</th>\n",
       "    </tr>\n",
       "  </thead>\n",
       "  <tbody>\n",
       "    <tr>\n",
       "      <th>0</th>\n",
       "      <td>2021-03-05</td>\n",
       "      <td>Opened</td>\n",
       "    </tr>\n",
       "    <tr>\n",
       "      <th>1</th>\n",
       "      <td>2021-03-16</td>\n",
       "      <td>Opened</td>\n",
       "    </tr>\n",
       "    <tr>\n",
       "      <th>2</th>\n",
       "      <td>2021-03-28</td>\n",
       "      <td>Closed</td>\n",
       "    </tr>\n",
       "  </tbody>\n",
       "</table>\n",
       "</div>"
      ],
      "text/plain": [
       "        dates  status\n",
       "0  2021-03-05  Opened\n",
       "1  2021-03-16  Opened\n",
       "2  2021-03-28  Closed"
      ]
     },
     "execution_count": 118,
     "metadata": {},
     "output_type": "execute_result"
    }
   ],
   "source": [
    "df1 = pd.read_csv(url, index_col = 0)\n",
    "df1.head()"
   ]
  },
  {
   "cell_type": "markdown",
   "id": "f8496160-964a-4e4a-bb22-81e4a30ed84c",
   "metadata": {},
   "source": [
    "The dataset is loaded and the index is correct after performing the command.\n",
    "\n",
    "### Convert Strings to Datetime\n",
    "\n",
    "However, we see an issue right away: all of the data, including dates, has been parsed as integers (or, in other cases, as string). If the dates do not have a particularly unusual format, you can use the autodetection routines to identify the column that contains the date data. It works nicely with the following arguments when the data file is stored locally."
   ]
  },
  {
   "cell_type": "code",
   "execution_count": 119,
   "id": "3c414f1f-f05b-4248-b30e-cf26d9cf2ccc",
   "metadata": {},
   "outputs": [],
   "source": [
    "# df2 = pd.read_csv('/Users/Kaemyuijang/SCMA248/demo_df.csv', index_col = 0, parse_dates = ['dates'])\n",
    "# print(df2.head())\n",
    "# df2.dtypes"
   ]
  },
  {
   "cell_type": "markdown",
   "id": "0d606553-356b-43d6-a80e-964e74ff506b",
   "metadata": {},
   "source": [
    "For the same dataset downloaded from Github, if a column or index contains an unparseable date, the entire column or index will be returned unaltered as an object data type. For non-standard datetime parsing, use pd.to_datetime after pd.read_csv:\n",
    "\n",
    "`pd.to_datetime(df['DataFrame Column'], format=specify your format)` \n",
    "\n",
    "Remember that the date format for our example is yyyymmdd.\n",
    "\n",
    "The following is a representation of this date format `format =  '%d%m%Y'` (or `format =  '%Y%m%d'`). \n",
    "\n",
    "See https://datatofish.com/strings-to-datetime-pandas/ for more details."
   ]
  },
  {
   "cell_type": "code",
   "execution_count": 120,
   "id": "3c6cb16c-e62c-4ac7-97f5-eb1c463c2bd7",
   "metadata": {},
   "outputs": [
    {
     "name": "stdout",
     "output_type": "stream",
     "text": [
      "       dates  status\n",
      "0 2021-03-05  Opened\n",
      "1 2021-03-16  Opened\n",
      "2 2021-03-28  Closed\n"
     ]
    },
    {
     "data": {
      "text/plain": [
       "dates     datetime64[ns]\n",
       "status            object\n",
       "dtype: object"
      ]
     },
     "execution_count": 120,
     "metadata": {},
     "output_type": "execute_result"
    }
   ],
   "source": [
    "df2 = pd.read_csv(url, index_col = 0, parse_dates = ['dates'])\n",
    "print(df2)\n",
    "df2.dtypes"
   ]
  },
  {
   "cell_type": "code",
   "execution_count": 121,
   "id": "f7469b7b-d34e-4f2e-a08f-e68a8b739559",
   "metadata": {},
   "outputs": [
    {
     "name": "stdout",
     "output_type": "stream",
     "text": [
      "       dates  status\n",
      "0 2021-03-05  Opened\n",
      "1 2021-03-16  Opened\n",
      "2 2021-03-28  Closed\n"
     ]
    },
    {
     "data": {
      "text/plain": [
       "dates     datetime64[ns]\n",
       "status            object\n",
       "dtype: object"
      ]
     },
     "execution_count": 121,
     "metadata": {},
     "output_type": "execute_result"
    }
   ],
   "source": [
    "df2['dates'] = pd.to_datetime(df2['dates'], format='%d%m%Y')\n",
    "print(df2)\n",
    "df2.dtypes"
   ]
  },
  {
   "cell_type": "markdown",
   "id": "147867f0-2058-456a-97d9-ecd597227a1b",
   "metadata": {},
   "source": [
    "### Missing values\n",
    "\n",
    "We will concentrate on missing values, which is perhaps the most challenging data cleaning operation.\n",
    "\n",
    "It's a good idea to have an overall sense of a data set before you start cleaning it. After that, you can develop a plan for cleaning the data.\n",
    "\n",
    "To begin, I like to ask the following questions:\n",
    "\n",
    "* What are the features?\n",
    "\n",
    "* What sorts of data are required (int, float, text, boolean)?\n",
    " \n",
    "* Is there any evident data missing (values that Pandas can detect)?\n",
    "* Is there any other type of missing data that isn't as clear (and that Pandas can't easily detect)?\n",
    "\n",
    "Let's have a look at an example by using a small sample data namely property_data.csv. The file can be obtained from Github: https://raw.githubusercontent.com/pairote-sat/SCMA248/main/property_data.csv.\n",
    "\n",
    "In what follows, we also specify that 'PID' (personal indentifier) is the index column while loading this data set with the following command (with the parameter index_col):\n"
   ]
  },
  {
   "cell_type": "code",
   "execution_count": 122,
   "id": "e6b12678-a643-4f6d-a579-9bed36d71d40",
   "metadata": {},
   "outputs": [
    {
     "data": {
      "text/html": [
       "<div>\n",
       "<style scoped>\n",
       "    .dataframe tbody tr th:only-of-type {\n",
       "        vertical-align: middle;\n",
       "    }\n",
       "\n",
       "    .dataframe tbody tr th {\n",
       "        vertical-align: top;\n",
       "    }\n",
       "\n",
       "    .dataframe thead th {\n",
       "        text-align: right;\n",
       "    }\n",
       "</style>\n",
       "<table border=\"1\" class=\"dataframe\">\n",
       "  <thead>\n",
       "    <tr style=\"text-align: right;\">\n",
       "      <th></th>\n",
       "      <th>ST_NUM</th>\n",
       "      <th>ST_NAME</th>\n",
       "      <th>OWN_OCCUPIED</th>\n",
       "      <th>NUM_BEDROOMS</th>\n",
       "      <th>NUM_BATH</th>\n",
       "      <th>SQ_FT</th>\n",
       "    </tr>\n",
       "    <tr>\n",
       "      <th>PID</th>\n",
       "      <th></th>\n",
       "      <th></th>\n",
       "      <th></th>\n",
       "      <th></th>\n",
       "      <th></th>\n",
       "      <th></th>\n",
       "    </tr>\n",
       "  </thead>\n",
       "  <tbody>\n",
       "    <tr>\n",
       "      <th>10101.0</th>\n",
       "      <td>104.0</td>\n",
       "      <td>Khao San</td>\n",
       "      <td>Y</td>\n",
       "      <td>3</td>\n",
       "      <td>1</td>\n",
       "      <td>1000</td>\n",
       "    </tr>\n",
       "    <tr>\n",
       "      <th>10102.0</th>\n",
       "      <td>197.0</td>\n",
       "      <td>Silom</td>\n",
       "      <td>N</td>\n",
       "      <td>3</td>\n",
       "      <td>1.5</td>\n",
       "      <td>--</td>\n",
       "    </tr>\n",
       "    <tr>\n",
       "      <th>10103.0</th>\n",
       "      <td>NaN</td>\n",
       "      <td>Silom</td>\n",
       "      <td>N</td>\n",
       "      <td>NaN</td>\n",
       "      <td>1</td>\n",
       "      <td>850</td>\n",
       "    </tr>\n",
       "    <tr>\n",
       "      <th>10104.0</th>\n",
       "      <td>201.0</td>\n",
       "      <td>Sukhumvit</td>\n",
       "      <td>12</td>\n",
       "      <td>1</td>\n",
       "      <td>NaN</td>\n",
       "      <td>700</td>\n",
       "    </tr>\n",
       "    <tr>\n",
       "      <th>NaN</th>\n",
       "      <td>203.0</td>\n",
       "      <td>Sukhumvit</td>\n",
       "      <td>Y</td>\n",
       "      <td>3</td>\n",
       "      <td>2</td>\n",
       "      <td>1600</td>\n",
       "    </tr>\n",
       "    <tr>\n",
       "      <th>10106.0</th>\n",
       "      <td>207.0</td>\n",
       "      <td>Sukhumvit</td>\n",
       "      <td>Y</td>\n",
       "      <td>NaN</td>\n",
       "      <td>1</td>\n",
       "      <td>800</td>\n",
       "    </tr>\n",
       "    <tr>\n",
       "      <th>10107.0</th>\n",
       "      <td>NaN</td>\n",
       "      <td>Thonglor</td>\n",
       "      <td>NaN</td>\n",
       "      <td>2</td>\n",
       "      <td>HURLEY</td>\n",
       "      <td>950</td>\n",
       "    </tr>\n",
       "    <tr>\n",
       "      <th>10108.0</th>\n",
       "      <td>213.0</td>\n",
       "      <td>Rama 1</td>\n",
       "      <td>Y</td>\n",
       "      <td>--</td>\n",
       "      <td>1</td>\n",
       "      <td>NaN</td>\n",
       "    </tr>\n",
       "    <tr>\n",
       "      <th>10109.0</th>\n",
       "      <td>215.0</td>\n",
       "      <td>Rama 1</td>\n",
       "      <td>Y</td>\n",
       "      <td>na</td>\n",
       "      <td>2</td>\n",
       "      <td>1800</td>\n",
       "    </tr>\n",
       "  </tbody>\n",
       "</table>\n",
       "</div>"
      ],
      "text/plain": [
       "         ST_NUM    ST_NAME OWN_OCCUPIED NUM_BEDROOMS NUM_BATH SQ_FT\n",
       "PID                                                                \n",
       "10101.0   104.0   Khao San            Y            3        1  1000\n",
       "10102.0   197.0      Silom            N            3      1.5    --\n",
       "10103.0     NaN      Silom            N          NaN        1   850\n",
       "10104.0   201.0  Sukhumvit           12            1      NaN   700\n",
       "NaN       203.0  Sukhumvit            Y            3        2  1600\n",
       "10106.0   207.0  Sukhumvit            Y          NaN        1   800\n",
       "10107.0     NaN   Thonglor          NaN            2   HURLEY   950\n",
       "10108.0   213.0     Rama 1            Y           --        1   NaN\n",
       "10109.0   215.0     Rama 1            Y           na        2  1800"
      ]
     },
     "execution_count": 122,
     "metadata": {},
     "output_type": "execute_result"
    }
   ],
   "source": [
    "url = 'https://raw.githubusercontent.com/pairote-sat/SCMA248/main/Data/property_data.csv'\n",
    "\n",
    "df = pd.read_csv(url, index_col = 0)\n",
    "df"
   ]
  },
  {
   "cell_type": "markdown",
   "id": "ea38d921-6993-4dab-809d-9d91683b7039",
   "metadata": {},
   "source": [
    "We notice that the PID (personal identifiers) as the index name has a missing value, i.e. NaN  (not any number). We will replace this missing PID with 10105 and also convert from floats to integers. "
   ]
  },
  {
   "cell_type": "code",
   "execution_count": 123,
   "id": "937a06fe-68e3-4866-837f-b8b8938f7987",
   "metadata": {},
   "outputs": [
    {
     "name": "stdout",
     "output_type": "stream",
     "text": [
      "10101    104.0\n",
      "10102    197.0\n",
      "10103      NaN\n",
      "10104    201.0\n",
      "10105    203.0\n",
      "10106    207.0\n",
      "10107      NaN\n",
      "10108    213.0\n",
      "10109    215.0\n",
      "Name: ST_NUM, dtype: float64\n"
     ]
    }
   ],
   "source": [
    "rowindex = df.index.tolist()\n",
    "rowindex[4] = 10105.0\n",
    "rowindex = [int(i) for i in rowindex]\n",
    "\n",
    "df.index = rowindex\n",
    "\n",
    "print(df.loc[:,'ST_NUM'])"
   ]
  },
  {
   "cell_type": "markdown",
   "id": "ab81f310-85d9-4dfb-a8ab-c4141235a6e7",
   "metadata": {},
   "source": [
    "Alternatively, one can use Numpy to produce the same result. Simply run the following commands. Here we use `.astype()` method to convert the type of an array. "
   ]
  },
  {
   "cell_type": "code",
   "execution_count": 124,
   "id": "8cf51feb-d0ae-465d-a46c-28987f39c0c2",
   "metadata": {},
   "outputs": [
    {
     "name": "stdout",
     "output_type": "stream",
     "text": [
      "10101    104.0\n",
      "10102    197.0\n",
      "10103      NaN\n",
      "10104    201.0\n",
      "10105    203.0\n",
      "10106    207.0\n",
      "10107      NaN\n",
      "10108    213.0\n",
      "10109    215.0\n",
      "Name: ST_NUM, dtype: float64\n"
     ]
    }
   ],
   "source": [
    "df = pd.read_csv(url, index_col = 0)\n",
    "df\n",
    "\n",
    "import numpy as np\n",
    "rowindex = df.index.to_numpy()\n",
    "\n",
    "rowindex[4] = 10105.0\n",
    "\n",
    "df.index = rowindex.astype(int)\n",
    "\n",
    "print(df.loc[:,'ST_NUM'])"
   ]
  },
  {
   "cell_type": "markdown",
   "id": "b9682061-f354-42a2-8fee-2a9514d46c9d",
   "metadata": {},
   "source": [
    "Now I can answer my first question: what are features? The following features can be obtained from the column names:\n",
    "\n",
    "* ST_NUM is the street number\n",
    "\n",
    "* ST_NAME is the street name\n",
    "\n",
    "* OWN_OCCUPIED: Is the residence owner occupied?\n",
    "\n",
    "* NUM_BEDROOMS: the number of rooms"
   ]
  },
  {
   "cell_type": "markdown",
   "id": "a6015ec6-565f-46f0-922f-6935963fb9ee",
   "metadata": {},
   "source": [
    "We can also respond to the question, What are the expected types?\n",
    "\n",
    "* ST_NUM is either a float or an int... a numeric type of some sort\n",
    "\n",
    "* ST_NAME is a string variable.\n",
    "\n",
    "* OWN_OCCUPIED: string; OWN_OCCUPIED: string; OWN _OCCUPIED N (\"No\") or Y (\"Yes\")\n",
    "\n",
    "* NUM_BEDROOMS is a numeric type that can be either float or int."
   ]
  },
  {
   "cell_type": "markdown",
   "id": "b4c9bff1-5475-499d-9dbe-56a3c09d96dd",
   "metadata": {},
   "source": [
    "### Standard Missing Values\n",
    "\n",
    "So, what exactly do I mean when I say \"standard missing values?\" These are missing values that Pandas can detect.\n",
    "\n",
    "Let's return to our initial dataset and examine the \"Street Number\" column.\n",
    "\n",
    "There are an empty cell in the third row (from the original file). A value of \"NaN\" appears in the seventh row.\n",
    "\n",
    "Both of these numbers are obviously missing. Let's see how Pandas handle these situations. We can see that Pandas filled in the blank space with \"NaN\".\n",
    "\n",
    "We can confirm that both the missing value and \"NA\" were detected as missing values using the isnull() method. True for both boolean responses."
   ]
  },
  {
   "cell_type": "code",
   "execution_count": 125,
   "id": "a108fda8-b08c-4c86-bce6-009567a2b7b1",
   "metadata": {},
   "outputs": [
    {
     "data": {
      "text/plain": [
       "10101    False\n",
       "10102    False\n",
       "10103     True\n",
       "10104    False\n",
       "10105    False\n",
       "10106    False\n",
       "10107     True\n",
       "10108    False\n",
       "10109    False\n",
       "Name: ST_NUM, dtype: bool"
      ]
     },
     "execution_count": 125,
     "metadata": {},
     "output_type": "execute_result"
    }
   ],
   "source": [
    "df['ST_NUM'].isnull()"
   ]
  },
  {
   "cell_type": "markdown",
   "id": "5772c2af-1bab-4167-b7cd-fc0530cdf10c",
   "metadata": {},
   "source": [
    "Similarly, for the NUM_BEDROOMS column of the original CSV file, users manually entering missing values with different names \"n/a\" and \"NA\". Pandas also recognized these as missing values and filled with \"NaN\"."
   ]
  },
  {
   "cell_type": "code",
   "execution_count": 126,
   "id": "1f115685-101b-478d-9c6d-5ffe1c6a6ee4",
   "metadata": {},
   "outputs": [
    {
     "data": {
      "text/plain": [
       "10101      3\n",
       "10102      3\n",
       "10103    NaN\n",
       "10104      1\n",
       "10105      3\n",
       "10106    NaN\n",
       "10107      2\n",
       "10108     --\n",
       "10109     na\n",
       "Name: NUM_BEDROOMS, dtype: object"
      ]
     },
     "execution_count": 126,
     "metadata": {},
     "output_type": "execute_result"
    }
   ],
   "source": [
    "df['NUM_BEDROOMS']"
   ]
  },
  {
   "cell_type": "markdown",
   "id": "8b3eea4e-d57b-4794-95ac-506b57e2899e",
   "metadata": {},
   "source": [
    "### Missing Values That Aren't Standard\n",
    "\n",
    "It is possible that there are missing values with different formats in some cases.\n",
    "\n",
    "There are two other missing values in this column of different formats\n",
    "\n",
    "* na\n",
    "\n",
    "* `--`\n",
    "\n",
    "Putting this different format in a list is a simple approach to detect them. When we import the data, Pandas will immediately recognize them. Here's an example of how we might go about it."
   ]
  },
  {
   "cell_type": "code",
   "execution_count": 127,
   "id": "ea9efb58-1fbc-468c-b8d0-6109575c258f",
   "metadata": {},
   "outputs": [
    {
     "data": {
      "text/html": [
       "<div>\n",
       "<style scoped>\n",
       "    .dataframe tbody tr th:only-of-type {\n",
       "        vertical-align: middle;\n",
       "    }\n",
       "\n",
       "    .dataframe tbody tr th {\n",
       "        vertical-align: top;\n",
       "    }\n",
       "\n",
       "    .dataframe thead th {\n",
       "        text-align: right;\n",
       "    }\n",
       "</style>\n",
       "<table border=\"1\" class=\"dataframe\">\n",
       "  <thead>\n",
       "    <tr style=\"text-align: right;\">\n",
       "      <th></th>\n",
       "      <th>ST_NUM</th>\n",
       "      <th>ST_NAME</th>\n",
       "      <th>OWN_OCCUPIED</th>\n",
       "      <th>NUM_BEDROOMS</th>\n",
       "      <th>NUM_BATH</th>\n",
       "      <th>SQ_FT</th>\n",
       "    </tr>\n",
       "    <tr>\n",
       "      <th>PID</th>\n",
       "      <th></th>\n",
       "      <th></th>\n",
       "      <th></th>\n",
       "      <th></th>\n",
       "      <th></th>\n",
       "      <th></th>\n",
       "    </tr>\n",
       "  </thead>\n",
       "  <tbody>\n",
       "    <tr>\n",
       "      <th>10101.0</th>\n",
       "      <td>104.0</td>\n",
       "      <td>Khao San</td>\n",
       "      <td>Y</td>\n",
       "      <td>3.0</td>\n",
       "      <td>1</td>\n",
       "      <td>1000.0</td>\n",
       "    </tr>\n",
       "    <tr>\n",
       "      <th>10102.0</th>\n",
       "      <td>197.0</td>\n",
       "      <td>Silom</td>\n",
       "      <td>N</td>\n",
       "      <td>3.0</td>\n",
       "      <td>1.5</td>\n",
       "      <td>NaN</td>\n",
       "    </tr>\n",
       "    <tr>\n",
       "      <th>10103.0</th>\n",
       "      <td>NaN</td>\n",
       "      <td>Silom</td>\n",
       "      <td>N</td>\n",
       "      <td>NaN</td>\n",
       "      <td>1</td>\n",
       "      <td>850.0</td>\n",
       "    </tr>\n",
       "    <tr>\n",
       "      <th>10104.0</th>\n",
       "      <td>201.0</td>\n",
       "      <td>Sukhumvit</td>\n",
       "      <td>12</td>\n",
       "      <td>1.0</td>\n",
       "      <td>NaN</td>\n",
       "      <td>700.0</td>\n",
       "    </tr>\n",
       "    <tr>\n",
       "      <th>NaN</th>\n",
       "      <td>203.0</td>\n",
       "      <td>Sukhumvit</td>\n",
       "      <td>Y</td>\n",
       "      <td>3.0</td>\n",
       "      <td>2</td>\n",
       "      <td>1600.0</td>\n",
       "    </tr>\n",
       "    <tr>\n",
       "      <th>10106.0</th>\n",
       "      <td>207.0</td>\n",
       "      <td>Sukhumvit</td>\n",
       "      <td>Y</td>\n",
       "      <td>NaN</td>\n",
       "      <td>1</td>\n",
       "      <td>800.0</td>\n",
       "    </tr>\n",
       "    <tr>\n",
       "      <th>10107.0</th>\n",
       "      <td>NaN</td>\n",
       "      <td>Thonglor</td>\n",
       "      <td>NaN</td>\n",
       "      <td>2.0</td>\n",
       "      <td>HURLEY</td>\n",
       "      <td>950.0</td>\n",
       "    </tr>\n",
       "    <tr>\n",
       "      <th>10108.0</th>\n",
       "      <td>213.0</td>\n",
       "      <td>Rama 1</td>\n",
       "      <td>Y</td>\n",
       "      <td>NaN</td>\n",
       "      <td>1</td>\n",
       "      <td>NaN</td>\n",
       "    </tr>\n",
       "    <tr>\n",
       "      <th>10109.0</th>\n",
       "      <td>215.0</td>\n",
       "      <td>Rama 1</td>\n",
       "      <td>Y</td>\n",
       "      <td>NaN</td>\n",
       "      <td>2</td>\n",
       "      <td>1800.0</td>\n",
       "    </tr>\n",
       "  </tbody>\n",
       "</table>\n",
       "</div>"
      ],
      "text/plain": [
       "         ST_NUM    ST_NAME OWN_OCCUPIED  NUM_BEDROOMS NUM_BATH   SQ_FT\n",
       "PID                                                                   \n",
       "10101.0   104.0   Khao San            Y           3.0        1  1000.0\n",
       "10102.0   197.0      Silom            N           3.0      1.5     NaN\n",
       "10103.0     NaN      Silom            N           NaN        1   850.0\n",
       "10104.0   201.0  Sukhumvit           12           1.0      NaN   700.0\n",
       "NaN       203.0  Sukhumvit            Y           3.0        2  1600.0\n",
       "10106.0   207.0  Sukhumvit            Y           NaN        1   800.0\n",
       "10107.0     NaN   Thonglor          NaN           2.0   HURLEY   950.0\n",
       "10108.0   213.0     Rama 1            Y           NaN        1     NaN\n",
       "10109.0   215.0     Rama 1            Y           NaN        2  1800.0"
      ]
     },
     "execution_count": 127,
     "metadata": {},
     "output_type": "execute_result"
    }
   ],
   "source": [
    "# Making a list of missing value types\n",
    "missing_values = [\"na\", \"--\"]\n",
    "\n",
    "df = pd.read_csv(url, index_col = 0, na_values = missing_values)\n",
    "\n",
    "df"
   ]
  },
  {
   "cell_type": "markdown",
   "id": "1c751543-339f-49d9-b52b-9717251dfacf",
   "metadata": {},
   "source": [
    "### Unexpected Missing Values\n",
    "\n",
    "We have observed both standard and non-standard missing data so far. What if we have a type that is not expected?\n",
    "\n",
    "For instance, if our feature is supposed to be a string but it's a numeric type, it's technically a missing value.\n",
    "\n",
    "Take a look at the column labeled \"OWN_OCCUPIED\" to understand what I'm talking about."
   ]
  },
  {
   "cell_type": "code",
   "execution_count": 128,
   "id": "09b1da3d-3529-4d16-a487-92bede8cb463",
   "metadata": {},
   "outputs": [
    {
     "data": {
      "text/plain": [
       "PID\n",
       "10101.0      Y\n",
       "10102.0      N\n",
       "10103.0      N\n",
       "10104.0     12\n",
       "NaN          Y\n",
       "10106.0      Y\n",
       "10107.0    NaN\n",
       "10108.0      Y\n",
       "10109.0      Y\n",
       "Name: OWN_OCCUPIED, dtype: object"
      ]
     },
     "execution_count": 128,
     "metadata": {},
     "output_type": "execute_result"
    }
   ],
   "source": [
    "df['OWN_OCCUPIED']"
   ]
  },
  {
   "cell_type": "markdown",
   "id": "a4236d88-8842-4a4d-9b24-4be13d802cc3",
   "metadata": {},
   "source": [
    "We know Pandas will recognize the empty cell in row seven as a missing value because of our prior examples.\n",
    "\n",
    "The number 12 appears in the fourth row. This number type should be a missing value because the result for Owner Occupied should clearly be a string (Y or N).\n",
    "Because this example is a little more complicated, we will need to find a plan for identifying missing values. There are a few alternative routes to take, but this is how I'm going to go about it.\n",
    "\n",
    "1. Loop through The OWN OCCUPIED column.\n",
    "\n",
    "2. Convert the entry to an integer.\n",
    "\n",
    "3. If the entry may be transformed to an integer,  enter a missing value. \n",
    "\n",
    "4. We know the number cannot be an integer if it cannott be an integer."
   ]
  },
  {
   "cell_type": "code",
   "execution_count": 129,
   "id": "01256b6f-a427-4348-87c4-33ddac76297a",
   "metadata": {},
   "outputs": [],
   "source": [
    "df = pd.read_csv(url, index_col = 0)\n",
    "df\n",
    "\n",
    "import numpy as np\n",
    "rowindex = df.index.to_numpy()\n",
    "\n",
    "rowindex[4] = 10105.0\n",
    "\n",
    "df.index = rowindex.astype(int)\n"
   ]
  },
  {
   "cell_type": "code",
   "execution_count": 130,
   "id": "79820afa-0252-4e28-84df-fd1dd91b5912",
   "metadata": {},
   "outputs": [],
   "source": [
    "# Detecting numbers \n",
    "cnt=10101\n",
    "for row in df['OWN_OCCUPIED']:\n",
    "    try:\n",
    "        int(row)\n",
    "        df.loc[cnt, 'OWN_OCCUPIED']=np.nan\n",
    "    except ValueError:\n",
    "        pass\n",
    "    cnt+=1"
   ]
  },
  {
   "cell_type": "code",
   "execution_count": 131,
   "id": "6b4bafc2-35cf-40b8-afb4-d79025c6bc01",
   "metadata": {},
   "outputs": [
    {
     "data": {
      "text/plain": [
       "10101      Y\n",
       "10102      N\n",
       "10103      N\n",
       "10104    NaN\n",
       "10105      Y\n",
       "10106      Y\n",
       "10107    NaN\n",
       "10108      Y\n",
       "10109      Y\n",
       "Name: OWN_OCCUPIED, dtype: object"
      ]
     },
     "execution_count": 131,
     "metadata": {},
     "output_type": "execute_result"
    }
   ],
   "source": [
    "df['OWN_OCCUPIED']"
   ]
  },
  {
   "cell_type": "markdown",
   "id": "e09a7162-16c4-4aad-af40-e04423a399f9",
   "metadata": {},
   "source": [
    "In the code, we loop through each entry in the \"Owner Occupied\" column. To try to change the entry to an integer, we use int(row). If the value can be changed to an integer, we change the entry to a missing value using np.nan from Numpy. On the other hand, if the value cannot be changed to an integer, we pass it and continue.\n",
    "\n",
    "You will notice that I have used try and except ValueError. This is called exception handling, and we use this to handle errors.\n",
    "\n",
    "If we tried to change an entry to an integer and it could not be changed, a ValueError would be returned and the code would terminate. To deal with this, we use exception handling to detect these errors and continue."
   ]
  }
 ],
 "metadata": {
  "kernelspec": {
   "display_name": "Python 3 (ipykernel)",
   "language": "python",
   "name": "python3"
  },
  "language_info": {
   "codemirror_mode": {
    "name": "ipython",
    "version": 3
   },
   "file_extension": ".py",
   "mimetype": "text/x-python",
   "name": "python",
   "nbconvert_exporter": "python",
   "pygments_lexer": "ipython3",
   "version": "3.10.9"
  }
 },
 "nbformat": 4,
 "nbformat_minor": 5
}
